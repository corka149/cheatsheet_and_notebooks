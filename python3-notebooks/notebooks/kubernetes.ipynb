{
 "cells": [
  {
   "cell_type": "code",
   "execution_count": 1,
   "metadata": {
    "collapsed": true,
    "pycharm": {
     "is_executing": false
    }
   },
   "outputs": [],
   "source": [
    "import yaml\n",
    "import os\n",
    "from kubernetes import client, config\n",
    "from typing import List, Optional\n",
    "\n",
    "\n",
    "def path_to_config() -> str:\n",
    "    return os.getenv(\"HOME\") if os.getenv(\"HOME\") else os.getenv(\"HOMEPATH\")\n",
    "\n",
    "\n",
    "def load_ctx_and_ns() -> (str, str):\n",
    "    \"\"\"Loads current context from .kube/config.yaml\"\"\"\n",
    "    config_path = os.path.join(path_to_config(), \".kube\", \"config\")\n",
    "    with open(config_path, \"r\") as fin:\n",
    "        kube_config = yaml.safe_load(fin)\n",
    "        context: str = kube_config.get(\"current-context\")       \n",
    "        contexts = kube_config.get(\"contexts\")\n",
    "        namespace: List[str] = [c.get(\"context\").get(\"namespace\")\n",
    "                         for c in contexts \n",
    "                         if c.get(\"name\") == context and c.get(\"context\")]\n",
    "        return context, namespace[0]\n"
   ]
  },
  {
   "cell_type": "code",
   "execution_count": 2,
   "outputs": [],
   "source": [
    "# Init\n",
    "ctx, ns = load_ctx_and_ns()\n",
    "ac = config.new_client_from_config()"
   ],
   "metadata": {
    "collapsed": false,
    "pycharm": {
     "name": "#%%\n",
     "is_executing": false
    }
   }
  },
  {
   "cell_type": "code",
   "execution_count": 3,
   "outputs": [],
   "source": [
    "def list_pods(namespace: str, api_client: client.api_client.ApiClient) -> client.V1PodList:\n",
    "    api_instance = client.CoreV1Api(api_client)\n",
    "    return api_instance.list_namespaced_pod(namespace)\n",
    "\n",
    "\n",
    "p = list_pods(ns, ac)"
   ],
   "metadata": {
    "collapsed": false,
    "pycharm": {
     "name": "#%%\n",
     "is_executing": false
    }
   }
  },
  {
   "cell_type": "code",
   "execution_count": 4,
   "outputs": [],
   "source": [
    "def list_replicasets(namespace: str, api_client: client.api_client.ApiClient) -> client.V1ReplicaSetList:\n",
    "    api_instance = client.AppsV1Api(api_client)\n",
    "    return api_instance.list_namespaced_replica_set(namespace)\n",
    "\n",
    "\n",
    "rs = list_replicasets(ns, ac)"
   ],
   "metadata": {
    "collapsed": false,
    "pycharm": {
     "name": "#%%\n",
     "is_executing": false
    }
   }
  },
  {
   "cell_type": "code",
   "execution_count": 5,
   "outputs": [],
   "source": [
    "def list_deployments(namespace: str, api_client: client.api_client.ApiClient) -> client.V1DeploymentList:\n",
    "    api_instance = client.AppsV1Api(api_client)\n",
    "    return api_instance.list_namespaced_deployment(namespace)\n",
    "\n",
    "\n",
    "d = list_deployments(ns, ac)"
   ],
   "metadata": {
    "collapsed": false,
    "pycharm": {
     "name": "#%%\n",
     "is_executing": false
    }
   }
  },
  {
   "cell_type": "code",
   "execution_count": 6,
   "outputs": [],
   "source": [
    "def get_replicaset_name(pod: client.V1Pod) -> Optional[str]:\n",
    "    if pod and pod.metadata and len(pod.metadata.owner_references) > 0:\n",
    "        return pod.metadata.owner_references[0].name\n",
    "    else:\n",
    "        return None\n",
    "\n",
    "\n",
    "def get_deployment_name(replicaset: client.V1ReplicaSet) -> Optional[str]:\n",
    "    rs = replicaset # Shorter name\n",
    "    if rs and rs.metadata and len(rs.metadata.owner_references) > 0:\n",
    "        return rs.metadata.owner_references[0].name\n",
    "    else:\n",
    "        return None  \n"
   ],
   "metadata": {
    "collapsed": false,
    "pycharm": {
     "name": "#%%\n",
     "is_executing": false
    }
   }
  },
  {
   "cell_type": "code",
   "execution_count": 7,
   "outputs": [],
   "source": [
    "def find_pods_for_deployment(deployment_name, namespace: str, api_client: client.api_client.ApiClient) -> List[client.V1Pod]:\n",
    "    rs_list = list_replicasets(namespace, api_client)\n",
    "    rs_names = [rs.metadata.name \n",
    "               for rs in rs_list.items \n",
    "               if get_deployment_name(rs) == deployment_name]\n",
    "    \n",
    "    pods = list_pods(namespace, api_client)\n",
    "    return [p \n",
    "            for p in pods.items\n",
    "            if get_replicaset_name(p) in rs_names]\n",
    "\n",
    "\n",
    "fp = find_pods_for_deployment(\"jarvis-deployment\", ns, ac)"
   ],
   "metadata": {
    "collapsed": false,
    "pycharm": {
     "name": "#%%\n",
     "is_executing": false
    }
   }
  },
  {
   "cell_type": "code",
   "execution_count": 7,
   "outputs": [],
   "source": [
    "\n"
   ],
   "metadata": {
    "collapsed": false,
    "pycharm": {
     "name": "#%%\n",
     "is_executing": false
    }
   }
  }
 ],
 "metadata": {
  "kernelspec": {
   "display_name": "Python 3",
   "language": "python",
   "name": "python3"
  },
  "language_info": {
   "codemirror_mode": {
    "name": "ipython",
    "version": 2
   },
   "file_extension": ".py",
   "mimetype": "text/x-python",
   "name": "python",
   "nbconvert_exporter": "python",
   "pygments_lexer": "ipython2",
   "version": "2.7.6"
  },
  "pycharm": {
   "stem_cell": {
    "cell_type": "raw",
    "source": [],
    "metadata": {
     "collapsed": false
    }
   }
  }
 },
 "nbformat": 4,
 "nbformat_minor": 0
}