{
 "cells": [
  {
   "cell_type": "code",
   "execution_count": null,
   "metadata": {
    "collapsed": true,
    "pycharm": {
     "is_executing": false
    }
   },
   "outputs": [],
   "source": [
    "import docker\n",
    "from docker import DockerClient\n",
    "from docker.models.containers import Container\n",
    "\n",
    "client = docker.from_env()"
   ]
  },
  {
   "cell_type": "code",
   "execution_count": null,
   "outputs": [],
   "source": [
    "def launch_database(client: DockerClient, database_name: str):\n",
    "    return client.containers.create(\n",
    "        \"postgres:latest\",\n",
    "        name=database_name\n",
    "    )\n",
    "\n",
    "container: Container = launch_database(client, \"my_db\")"
   ],
   "metadata": {
    "collapsed": false,
    "pycharm": {
     "name": "#%%\n",
     "is_executing": false
    }
   }
  },
  {
   "cell_type": "code",
   "execution_count": null,
   "outputs": [],
   "source": [
    "container.start()"
   ],
   "metadata": {
    "collapsed": false,
    "pycharm": {
     "name": "#%%\n",
     "is_executing": false
    }
   }
  },
  {
   "cell_type": "code",
   "execution_count": null,
   "outputs": [],
   "source": [
    "def find_by_name(client: DockerClient, name: str):\n",
    "    return [c for c in client.containers.list() if c.name == name]\n",
    "\n",
    "db = find_by_name(client, \"my_db\")\n",
    "\n",
    "def renew_container(client: DockerClient, container_name):\n",
    "    containers = [c for c in client.containers.list() if c.name == container_name]\n",
    "    for container in containers:\n",
    "        container.stop()\n",
    "        container.remove()\n",
    "    new_db: Container = client.containers.create(\n",
    "        \"postgres:latest\",\n",
    "        name=container_name\n",
    "    )\n",
    "    new_db.start()"
   ],
   "metadata": {
    "collapsed": false,
    "pycharm": {
     "name": "#%%\n",
     "is_executing": false
    }
   }
  },
  {
   "cell_type": "code",
   "execution_count": null,
   "outputs": [],
   "source": [
    "print(str(renew_container(client, \"my_db\")))"
   ],
   "metadata": {
    "collapsed": false,
    "pycharm": {
     "name": "#%%\n",
     "is_executing": false
    }
   }
  }
 ],
 "metadata": {
  "kernelspec": {
   "display_name": "Python 3",
   "language": "python",
   "name": "python3"
  },
  "language_info": {
   "codemirror_mode": {
    "name": "ipython",
    "version": 2
   },
   "file_extension": ".py",
   "mimetype": "text/x-python",
   "name": "python",
   "nbconvert_exporter": "python",
   "pygments_lexer": "ipython2",
   "version": "2.7.6"
  },
  "pycharm": {
   "stem_cell": {
    "cell_type": "raw",
    "source": [],
    "metadata": {
     "collapsed": false
    }
   }
  }
 },
 "nbformat": 4,
 "nbformat_minor": 0
}